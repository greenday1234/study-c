{
 "cells": [
  {
   "cell_type": "code",
   "execution_count": 1,
   "id": "d7aa5b3c",
   "metadata": {},
   "outputs": [
    {
     "name": "stdout",
     "output_type": "stream",
     "text": [
      "lets get it pythin\n"
     ]
    }
   ],
   "source": [
    "print('lets get it pythin')"
   ]
  },
  {
   "cell_type": "markdown",
   "id": "95abf039",
   "metadata": {},
   "source": [
    "Markdown을 사용하면 주석처리가 가능하다."
   ]
  },
  {
   "cell_type": "code",
   "execution_count": 10,
   "id": "1ea261de",
   "metadata": {},
   "outputs": [
    {
     "name": "stdout",
     "output_type": "stream",
     "text": [
      "lets get it\n"
     ]
    }
   ],
   "source": [
    "print(\"lets get it\")"
   ]
  },
  {
   "cell_type": "code",
   "execution_count": 11,
   "id": "33bd60ff",
   "metadata": {},
   "outputs": [
    {
     "name": "stdout",
     "output_type": "stream",
     "text": [
      "120\n"
     ]
    }
   ],
   "source": [
    "print(123-3)"
   ]
  },
  {
   "cell_type": "code",
   "execution_count": 13,
   "id": "5597ddf4",
   "metadata": {},
   "outputs": [
    {
     "name": "stdout",
     "output_type": "stream",
     "text": [
      "123 3\n"
     ]
    }
   ],
   "source": [
    "print(\"123\" + \"3\")"
   ]
  },
  {
   "cell_type": "markdown",
   "id": "54b41a9f",
   "metadata": {},
   "source": [
    "제곱 하는 방법"
   ]
  },
  {
   "cell_type": "code",
   "execution_count": 16,
   "id": "e6832c4a",
   "metadata": {},
   "outputs": [
    {
     "name": "stdout",
     "output_type": "stream",
     "text": [
      "25\n"
     ]
    }
   ],
   "source": [
    "print(5 ** 2)"
   ]
  },
  {
   "cell_type": "markdown",
   "id": "337996f1",
   "metadata": {},
   "source": [
    "몫 구하는 방법"
   ]
  },
  {
   "cell_type": "code",
   "execution_count": 17,
   "id": "c0a2541d",
   "metadata": {},
   "outputs": [
    {
     "name": "stdout",
     "output_type": "stream",
     "text": [
      "2\n"
     ]
    }
   ],
   "source": [
    "print(5 // 2)"
   ]
  },
  {
   "cell_type": "markdown",
   "id": "fea93333",
   "metadata": {},
   "source": [
    "*는 해당 문자를 3번 반복해라를 의미"
   ]
  },
  {
   "cell_type": "code",
   "execution_count": 18,
   "id": "568f77d5",
   "metadata": {},
   "outputs": [
    {
     "name": "stdout",
     "output_type": "stream",
     "text": [
      "파이썬파이썬파이썬\n"
     ]
    }
   ],
   "source": [
    "print(\"파이썬\" * 3)"
   ]
  },
  {
   "cell_type": "markdown",
   "id": "460b9494",
   "metadata": {},
   "source": [
    "+대신 ,를 사용해도 됨 (단, 공백 한 칸이 생김)"
   ]
  },
  {
   "cell_type": "code",
   "execution_count": 19,
   "id": "e7cf0c10",
   "metadata": {},
   "outputs": [
    {
     "name": "stdout",
     "output_type": "stream",
     "text": [
      "파이썬 굳\n"
     ]
    }
   ],
   "source": [
    "print(\"파이썬\",\"굳\")"
   ]
  },
  {
   "cell_type": "code",
   "execution_count": 20,
   "id": "ab3c8470",
   "metadata": {},
   "outputs": [
    {
     "name": "stdout",
     "output_type": "stream",
     "text": [
      "안녕\n"
     ]
    },
    {
     "data": {
      "text/plain": [
       "'안녕'"
      ]
     },
     "execution_count": 20,
     "metadata": {},
     "output_type": "execute_result"
    }
   ],
   "source": [
    "input()"
   ]
  },
  {
   "cell_type": "code",
   "execution_count": 21,
   "id": "51073dfe",
   "metadata": {},
   "outputs": [
    {
     "name": "stdout",
     "output_type": "stream",
     "text": [
      "3이건가?\n"
     ]
    },
    {
     "data": {
      "text/plain": [
       "'이건가?'"
      ]
     },
     "execution_count": 21,
     "metadata": {},
     "output_type": "execute_result"
    }
   ],
   "source": [
    "input(3)"
   ]
  },
  {
   "cell_type": "markdown",
   "id": "82454d8e",
   "metadata": {},
   "source": [
    "input 내부 텍스트는 안내문과 같은 역할\n"
   ]
  },
  {
   "cell_type": "code",
   "execution_count": 23,
   "id": "03d699d7",
   "metadata": {},
   "outputs": [
    {
     "name": "stdout",
     "output_type": "stream",
     "text": [
      "아이디 :아이디\n",
      "비밀번호 :비밀번호\n"
     ]
    },
    {
     "data": {
      "text/plain": [
       "'비밀번호'"
      ]
     },
     "execution_count": 23,
     "metadata": {},
     "output_type": "execute_result"
    }
   ],
   "source": [
    "input(\"아이디 :\" )\n",
    "input(\"비밀번호 :\" )"
   ]
  },
  {
   "cell_type": "code",
   "execution_count": 25,
   "id": "d0197b87",
   "metadata": {},
   "outputs": [
    {
     "name": "stdout",
     "output_type": "stream",
     "text": [
      "아이디: test\n",
      "비밀번호: 1234\n",
      "gilbut님 환영합니다! \n"
     ]
    }
   ],
   "source": [
    "input(\"아이디: \")\n",
    "input(\"비밀번호: \")\n",
    "print(\"gilbut님 환영합니다! \")"
   ]
  },
  {
   "cell_type": "markdown",
   "id": "b2e8b74f",
   "metadata": {},
   "source": [
    "파이썬은 내부에 함수를 쓰는 형식(괄호 연산자를 계산하는 것과 같이 괄호 안에 있는 함수 먼저 사용)"
   ]
  },
  {
   "cell_type": "code",
   "execution_count": 27,
   "id": "db82c292",
   "metadata": {},
   "outputs": [
    {
     "name": "stdout",
     "output_type": "stream",
     "text": [
      "아이디: 파이썬\n",
      "파이썬 님, 가입을 환영합니다!\n"
     ]
    }
   ],
   "source": [
    "print(input(\"아이디: \"),\"님, 가입을 환영합니다!\")"
   ]
  },
  {
   "cell_type": "markdown",
   "id": "285ef268",
   "metadata": {},
   "source": [
    "# 2장 실습"
   ]
  },
  {
   "cell_type": "markdown",
   "id": "56b999ff",
   "metadata": {},
   "source": [
    "### 1번"
   ]
  },
  {
   "cell_type": "code",
   "execution_count": 28,
   "id": "f77ce08e",
   "metadata": {},
   "outputs": [
    {
     "name": "stdout",
     "output_type": "stream",
     "text": [
      "무궁화 꽃이 피었습니다! 무궁화 꽃이 피었습니다! 무궁화 꽃이 피었습니다! \n"
     ]
    }
   ],
   "source": [
    "print(\"무궁화 꽃이 피었습니다! \" * 3)"
   ]
  },
  {
   "cell_type": "markdown",
   "id": "200230b2",
   "metadata": {},
   "source": [
    "### 3번"
   ]
  },
  {
   "cell_type": "code",
   "execution_count": 1,
   "id": "0e49f825",
   "metadata": {},
   "outputs": [
    {
     "name": "stdout",
     "output_type": "stream",
     "text": [
      "닉네임을 입력해 주세요. --> ㅇㅇ\n",
      "ㅇㅇ님 안녕하세요.\n"
     ]
    }
   ],
   "source": [
    "print(input(\"닉네임을 입력해 주세요. --> \") + \"님 안녕하세요.\")"
   ]
  },
  {
   "cell_type": "code",
   "execution_count": 6,
   "id": "66c3d407",
   "metadata": {},
   "outputs": [
    {
     "name": "stdout",
     "output_type": "stream",
     "text": [
      "1\n",
      "<__main__.State object at 0x7fd8796daf10>\n"
     ]
    },
    {
     "ename": "NameError",
     "evalue": "name 'moves' is not defined",
     "output_type": "error",
     "traceback": [
      "\u001b[0;31m---------------------------------------------------------------------------\u001b[0m",
      "\u001b[0;31mNameError\u001b[0m                                 Traceback (most recent call last)",
      "Input \u001b[0;32mIn [6]\u001b[0m, in \u001b[0;36m<cell line: 85>\u001b[0;34m()\u001b[0m\n\u001b[1;32m     93\u001b[0m     \u001b[38;5;28;01mbreak\u001b[39;00m\n\u001b[1;32m     94\u001b[0m depth \u001b[38;5;241m=\u001b[39m current\u001b[38;5;241m.\u001b[39mdepth \u001b[38;5;241m+\u001b[39m \u001b[38;5;241m1\u001b[39m\n\u001b[0;32m---> 96\u001b[0m \u001b[38;5;28;01mfor\u001b[39;00m state \u001b[38;5;129;01min\u001b[39;00m \u001b[43mcurrent\u001b[49m\u001b[38;5;241;43m.\u001b[39;49m\u001b[43mexpand\u001b[49m\u001b[43m(\u001b[49m\u001b[43mdepth\u001b[49m\u001b[43m)\u001b[49m : \n\u001b[1;32m     97\u001b[0m     \u001b[38;5;28;01mif\u001b[39;00m state \u001b[38;5;129;01mnot\u001b[39;00m \u001b[38;5;129;01min\u001b[39;00m closed_queue \u001b[38;5;129;01mand\u001b[39;00m state \u001b[38;5;129;01mnot\u001b[39;00m \u001b[38;5;129;01min\u001b[39;00m open_queue\u001b[38;5;241m.\u001b[39mqueue :\n\u001b[1;32m     98\u001b[0m         open_queue\u001b[38;5;241m.\u001b[39mput(state)\n",
      "Input \u001b[0;32mIn [6]\u001b[0m, in \u001b[0;36mState.expand\u001b[0;34m(self, depth)\u001b[0m\n\u001b[1;32m     17\u001b[0m i \u001b[38;5;241m=\u001b[39m \u001b[38;5;28mself\u001b[39m\u001b[38;5;241m.\u001b[39mboard\u001b[38;5;241m.\u001b[39mindex(\u001b[38;5;241m0\u001b[39m) \u001b[38;5;66;03m# 숫자 0(빈칸)의 위치를 찾음\u001b[39;00m\n\u001b[1;32m     18\u001b[0m \u001b[38;5;28;01mif\u001b[39;00m \u001b[38;5;129;01mnot\u001b[39;00m i \u001b[38;5;129;01min\u001b[39;00m [\u001b[38;5;241m0\u001b[39m,\u001b[38;5;241m3\u001b[39m,\u001b[38;5;241m6\u001b[39m] :   \u001b[38;5;66;03m# LEFT 연산\u001b[39;00m\n\u001b[0;32m---> 19\u001b[0m     result\u001b[38;5;241m.\u001b[39mappend(\u001b[38;5;28mself\u001b[39m\u001b[38;5;241m.\u001b[39mget_new_board(i,i\u001b[38;5;241m-\u001b[39m\u001b[38;5;241m1\u001b[39m,\u001b[43mmoves\u001b[49m))\n\u001b[1;32m     20\u001b[0m \u001b[38;5;28;01mif\u001b[39;00m \u001b[38;5;129;01mnot\u001b[39;00m i \u001b[38;5;129;01min\u001b[39;00m [\u001b[38;5;241m0\u001b[39m,\u001b[38;5;241m1\u001b[39m,\u001b[38;5;241m2\u001b[39m] :   \u001b[38;5;66;03m# UP 연산\u001b[39;00m\n\u001b[1;32m     21\u001b[0m     result\u001b[38;5;241m.\u001b[39mappend(\u001b[38;5;28mself\u001b[39m\u001b[38;5;241m.\u001b[39mget_new_board(i,i\u001b[38;5;241m-\u001b[39m\u001b[38;5;241m3\u001b[39m,moves))\n",
      "\u001b[0;31mNameError\u001b[0m: name 'moves' is not defined"
     ]
    }
   ],
   "source": [
    "import queue\n",
    "\n",
    "# 상태를 나타내는 클래스, f(n) 값을 저장함\n",
    "class State:\n",
    "    def __init__(self,board,goal,depth=0):\n",
    "        self.board = board\n",
    "        self.depth = depth\n",
    "        self.goal = goal\n",
    "\n",
    " # i1과 i2를 교환하여서 새로운 상태를 반환       \n",
    "    def get_new_board(self,i1,i2,depth):\n",
    "        new_board = self.board[:]\n",
    "        new_board[i1], new_board[i2] = new_board[i2], new_board[i1]\n",
    "        return State(new_board,self.goal,depth)\n",
    "\n",
    "        # 자식 노드를 확장하여서 리스트에 저장하여서 반환\n",
    "    def expand(self,moves):\n",
    "        result = []\n",
    "        i = self.board.index(0) # 숫자 0(빈칸)의 위치를 찾음\n",
    "        if not i in [0,3,6] :   # LEFT 연산\n",
    "            result.append(self.get_new_board(i,i-1,moves))\n",
    "        if not i in [0,1,2] :   # UP 연산\n",
    "            result.append(self.get_new_board(i,i-3,moves))\n",
    "        if not i in [2,5,8] :   # RIGHT 연산\n",
    "            result.append(self.get_new_board(i,i+1,moves))\n",
    "        if not i in [6,7,8] :   # DOWN 연산\n",
    "            result.append(self.get_new_board(i,i+3,moves))\n",
    "        return result\n",
    "\n",
    "# f(n)을 계산하여 반환\n",
    "    def f(self):\n",
    "        return self.h()+self.g()\n",
    "\n",
    "# 휴리스틱 함수값인 h(n)을 계산하여 반환\n",
    "# 현재 제 위치에 있지 않은 타일의 개수를 계산하여 반환\n",
    "\n",
    "    def h(self):\n",
    "        score = 0\n",
    "        for i in range(9):\n",
    "            if self.board[i] !=0 and self.board[i] != self.goal[i]:\n",
    "                score +=1\n",
    "        return score\n",
    "\n",
    "# 시작 노드로부터의 깊이 반환\n",
    "    def g(self):\n",
    "        return self.depth\n",
    "\n",
    "    def __eq__(self,other) :\n",
    "        return self.board == other.board\n",
    "\n",
    "    def __ne__(self,other) :\n",
    "        return self.board != other.board\n",
    "\n",
    "# 상태와 상태를 비교하기 위하여 less than 연산자 정의\n",
    "    def __lt__(self,other) :\n",
    "        return self.f() < other.f()\n",
    "\n",
    "    def __gt__(self,other) :\n",
    "        return self.f() > other.f()\n",
    "\n",
    "# 객체를 출력할 때 사용한다.\n",
    "def __str__(self) :\n",
    "    return f\"f(n)={self.f()} h(n)={self.h()} g(n)={self.g()}\\n\" + \\\n",
    "    str(self.board[:3]) + \"\\n\" + \\\n",
    "    str(self.board[3:6]) + \"\\n\" + \\\n",
    "    str(self.board[6:]) + \"\\n\"\n",
    "\n",
    "# 초기 상태\n",
    "puzzle = [2, 8, 3,\n",
    "          1, 6, 4,\n",
    "          7, 0, 5]\n",
    "\n",
    "# 목표 상태\n",
    "goal = [1, 2, 3,\n",
    "        8, 0, 4,\n",
    "        7, 6, 5]\n",
    "\n",
    "\n",
    "# open 리스트는 우선순위 큐로 생성\n",
    "open_queue = queue.PriorityQueue()\n",
    "open_queue.put(State(puzzle,goal))\n",
    "\n",
    "closed_queue = []\n",
    "depth = 0\n",
    "count = 0 \n",
    "\n",
    "while not open_queue.empty() :\n",
    "    current = open_queue.get()\n",
    "    count +=1\n",
    "    print(count)\n",
    "    print(current)\n",
    "\n",
    "    if current.board == goal : \n",
    "        print(\"탐색 성공\")\n",
    "        break\n",
    "    depth = current.depth + 1\n",
    "\n",
    "    for state in current.expand(depth) : \n",
    "        if state not in closed_queue and state not in open_queue.queue :\n",
    "            open_queue.put(state)\n",
    "    closed_queue.append(current)\n",
    "else:\n",
    "    print(\"탐색 실패\")"
   ]
  },
  {
   "cell_type": "code",
   "execution_count": null,
   "id": "7a1f40e0",
   "metadata": {},
   "outputs": [],
   "source": []
  }
 ],
 "metadata": {
  "kernelspec": {
   "display_name": "Python 3 (ipykernel)",
   "language": "python",
   "name": "python3"
  },
  "language_info": {
   "codemirror_mode": {
    "name": "ipython",
    "version": 3
   },
   "file_extension": ".py",
   "mimetype": "text/x-python",
   "name": "python",
   "nbconvert_exporter": "python",
   "pygments_lexer": "ipython3",
   "version": "3.9.12"
  }
 },
 "nbformat": 4,
 "nbformat_minor": 5
}
